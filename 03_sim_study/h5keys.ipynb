{
 "cells": [
  {
   "cell_type": "code",
   "execution_count": 3,
   "id": "ba6c334c-0a54-44a9-b71c-190851afa0ee",
   "metadata": {},
   "outputs": [
    {
     "name": "stdout",
     "output_type": "stream",
     "text": [
      "<KeysViewHDF5 ['CleanedHLCTankPulses', 'CleanedHLCTankPulses_info', 'CoincLaputopCleanedPulses', 'CoincLaputopCleanedPulses_Balloon', 'CoincLaputopCleanedPulses_info', 'CoincMuonReco_MPEFit', 'CoincMuonReco_MPEFitCharacteristics', 'CoincMuonReco_MPEFitFitParams', 'CoincMuonReco_MPEFitMuEX', 'CoincMuonReco_MPEFitTruncated_AllBINS_Muon', 'CoincMuonReco_MPEFitTruncated_BINS_Muon', 'CoincMuonReco_MPEFitTruncated_ORIG_Muon', 'CoincMuonReco_SPEFit2', 'CoincMuonReco_SPEFit2Characteristics', 'CoincMuonReco_SPEFit2FitParams', 'CoincMuonReco_SPEFit2_D4R_Params', 'CoincPulses', 'CoincPulses_info', 'I3EventHeader', 'I3MuonEnergyLaputopParams', 'I3TopInjectorInfo', 'IT73AnalysisIceTopQualityCuts', 'IT73AnalysisInIceQualityCuts', 'IceTopHLCSeedRTExcludedTanks', 'IceTopHLCSeedRTPulses', 'IceTopHLCSeedRTPulses_SnowUnAttenuated', 'IceTopHLCSeedRTPulses_SnowUnAttenuated_info', 'IceTopHLCSeedRTPulses_info', 'IceTopLaputopSeededSelectedHLC', 'IceTopLaputopSeededSelectedHLC_info', 'IceTopLaputopSeededSelectedSLC', 'IceTopLaputopSeededSelectedSLC_info', 'IceTop_EventPrescale', 'IceTop_InFillFilter', 'IceTop_StandardFilter', 'Laputop', 'LaputopParams', 'LaputopSmall', 'LaputopSmallParams', 'Laputop_FractionContainment_Smooth', 'MCPrimary', 'MCPrimaryInfo', 'Millipede', 'MillipedeFitParams', 'Millipede_dEdX', 'OfflineIceTopSLCTankPulses', 'OfflineIceTopSLCTankPulses_info', 'OfflineIceTopSLCVEMPulses_info', 'QFilterMask', 'ShowerCOG', 'ShowerPlane', 'Stoch_Reco', 'Stoch_Reco2', 'TankPulseMergerExcludedSLCTanks', '__I3Index__', 'w_Ngen_alone', 'w_ResampleR']>\n",
      "\n",
      "('CLASS', b'TABLE')\n",
      "('FIELD_0_DOC', b'run number')\n",
      "('FIELD_0_NAME', b'Run')\n",
      "('FIELD_0_UNIT', b'')\n",
      "('FIELD_10_DOC', b'Duration of the pulse')\n",
      "('FIELD_10_NAME', b'width')\n",
      "('FIELD_10_UNIT', b'ns')\n",
      "('FIELD_11_DOC', b'Integrated pulse charge')\n",
      "('FIELD_11_NAME', b'charge')\n",
      "('FIELD_11_UNIT', b'PE')\n",
      "('FIELD_1_DOC', b'event number')\n",
      "('FIELD_1_NAME', b'Event')\n",
      "('FIELD_1_UNIT', b'')\n",
      "('FIELD_2_DOC', b'sub-event number')\n",
      "('FIELD_2_NAME', b'SubEvent')\n",
      "('FIELD_2_UNIT', b'')\n",
      "('FIELD_3_DOC', b'ID of the splitter module that made this stream')\n",
      "('FIELD_3_NAME', b'SubEventStream')\n",
      "('FIELD_3_UNIT', b'')\n",
      "('FIELD_4_DOC', b'object was found in the frame')\n",
      "('FIELD_4_NAME', b'exists')\n",
      "('FIELD_4_UNIT', b'bool')\n",
      "('FIELD_5_DOC', b'String number')\n",
      "('FIELD_5_NAME', b'string')\n",
      "('FIELD_5_UNIT', b'')\n",
      "('FIELD_6_DOC', b'OM number')\n",
      "('FIELD_6_NAME', b'om')\n",
      "('FIELD_6_UNIT', b'')\n",
      "('FIELD_7_DOC', b'PMT number')\n",
      "('FIELD_7_NAME', b'pmt')\n",
      "('FIELD_7_UNIT', b'')\n",
      "('FIELD_8_DOC', b'index in vector')\n",
      "('FIELD_8_NAME', b'vector_index')\n",
      "('FIELD_8_UNIT', b'')\n",
      "('FIELD_9_DOC', b'Leading-edge time of the pulse')\n",
      "('FIELD_9_NAME', b'time')\n",
      "('FIELD_9_UNIT', b'ns')\n",
      "('TITLE', b'')\n",
      "('VERSION', b'3.0')\n",
      "('__I3RaggedTable__', array([1], dtype=int8))\n"
     ]
    }
   ],
   "source": [
    "import h5py\n",
    "\n",
    "# How to breakdown a hdf5 file and see what it contains\n",
    "# This will show each field's description, name, unit\n",
    "f = h5py.File('Level3_IC86.2015_SIBYLL2.1_p_20174_E5.0_0.h5', 'r')\n",
    "print(f.keys())\n",
    "print()\n",
    "\n",
    "\n",
    "for i in f['IceTopHLCSeedRTPulses_SnowUnAttenuated'].attrs.items(): # Can put any of the key names here to see each keys' fields\n",
    "    print(i)"
   ]
  }
 ],
 "metadata": {
  "kernelspec": {
   "display_name": "py3-v4.1.1: combo/V01-01-06",
   "language": "shell",
   "name": "py3-v4.1.1_v01-01-06"
  },
  "language_info": {
   "codemirror_mode": {
    "name": "ipython",
    "version": 3
   },
   "file_extension": ".py",
   "mimetype": "text/x-python",
   "name": "python",
   "nbconvert_exporter": "python",
   "pygments_lexer": "ipython3",
   "version": "3.7.5"
  }
 },
 "nbformat": 4,
 "nbformat_minor": 5
}
