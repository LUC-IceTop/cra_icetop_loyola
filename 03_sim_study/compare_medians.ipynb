{
 "cells": [
  {
   "cell_type": "code",
   "execution_count": 1,
   "id": "9c60fe67-9ff1-4398-9763-4924759d33bb",
   "metadata": {},
   "outputs": [],
   "source": [
    "# Imports\n",
    "import numpy as np\n",
    "import matplotlib.pyplot as plt\n",
    "import math\n",
    "import h5py, glob\n",
    "import pandas as pd\n",
    "\n",
    "from scipy.stats import ks_2samp\n",
    "from ang_res_funcs import *"
   ]
  },
  {
   "cell_type": "code",
   "execution_count": 2,
   "id": "cbd5acd1-764e-4a82-a93d-65f22fef52db",
   "metadata": {},
   "outputs": [],
   "source": [
    "def getMedian(data):\n",
    "    dat = data[0]\n",
    "    #dat = data[0]*(10**-6) #For converting from GeV to PeV\n",
    "    wei = data[1]\n",
    "    median = weighted_quantile(dat, .5, sample_weight=wei/sum(wei))\n",
    "    percentile_16 = weighted_quantile(dat, .5-.34, sample_weight=wei/sum(wei))\n",
    "    percentile_84 = weighted_quantile(dat, .5+.34, sample_weight=wei/sum(wei))\n",
    "    return [median, percentile_16, percentile_84]"
   ]
  },
  {
   "cell_type": "code",
   "execution_count": 4,
   "id": "0ba7988e-1101-45b2-9ad5-9698b4ac6f0a",
   "metadata": {},
   "outputs": [],
   "source": [
    "PARENT_DIRECTORY = '/data/ana/CosmicRay/Anisotropy/IceTop/twelve_year/03_sim_study'\n",
    "years = [2012, 2015, 2018]\n",
    "DIRECTS = [f'{PARENT_DIRECTORY}/IT81-{year}' for year in years]\n",
    "for year, DIRECT in zip(years, DIRECTS):\n",
    "    mc_en_p_t3 = np.load(DIRECT +'/Proton-T3-MC-Energy.npy')\n",
    "    mc_en_he_t3 = np.load(DIRECT +'/Helium-T3-MC-Energy.npy')\n",
    "    mc_en_o_t3 = np.load(DIRECT +'/Oxygen-T3-MC-Energy.npy')\n",
    "    mc_en_fe_t3 = np.load(DIRECT +'/Iron-T3-MC-Energy.npy')\n",
    "        \n",
    "    mc_en_p_t4 = np.load(DIRECT +'/Proton-T4-MC-Energy.npy')\n",
    "    mc_en_he_t4 = np.load(DIRECT +'/Helium-T4-MC-Energy.npy')\n",
    "    mc_en_o_t4 = np.load(DIRECT +'/Oxygen-T4-MC-Energy.npy')\n",
    "    mc_en_fe_t4 = np.load(DIRECT +'/Iron-T4-MC-Energy.npy')\n",
    "        \n",
    "    mc_w_p_t3 = np.load(DIRECT +'/Proton-T3-MC-Weights.npy')\n",
    "    mc_w_he_t3 = np.load(DIRECT +'/Helium-T3-MC-Weights.npy')\n",
    "    mc_w_o_t3 = np.load(DIRECT +'/Oxygen-T3-MC-Weights.npy')\n",
    "    mc_w_fe_t3 = np.load(DIRECT +'/Iron-T3-MC-Weights.npy')\n",
    "        \n",
    "    mc_w_p_t4 = np.load(DIRECT +'/Proton-T4-MC-Weights.npy')\n",
    "    mc_w_he_t4 = np.load(DIRECT +'/Helium-T4-MC-Weights.npy')\n",
    "    mc_w_o_t4 = np.load(DIRECT +'/Oxygen-T4-MC-Weights.npy')\n",
    "    mc_w_fe_t4 = np.load(DIRECT +'/Iron-T4-MC-Weights.npy')\n",
    "        \n",
    "    mc_en_t3 = np.concatenate((mc_en_p_t3, mc_en_he_t3, mc_en_o_t3, mc_en_fe_t3), axis=None)\n",
    "    mc_en_t4 = np.concatenate((mc_en_p_t4, mc_en_he_t4, mc_en_o_t4, mc_en_fe_t4), axis=None)\n",
    "\n",
    "    mc_w_t3 = np.concatenate((mc_w_p_t3, mc_w_he_t3, mc_w_o_t3, mc_w_fe_t3), axis=None)\n",
    "    mc_w_t4 = np.concatenate((mc_w_p_t4, mc_w_he_t4, mc_w_o_t4, mc_w_fe_t4), axis=None)\n",
    "\n",
    "    np.save(f'./mc_en_t3_{year}.npy', mc_en_t3)\n",
    "    np.save(f'./mc_en_t4_{year}.npy', mc_en_t4)\n",
    "    np.save(f'./mc_w_t3_{year}.npy', mc_w_t3)\n",
    "    np.save(f'./mc_w_t4_{year}.npy', mc_w_t4)\n"
   ]
  },
  {
   "cell_type": "code",
   "execution_count": 6,
   "id": "1d3f8ef6-7abc-4286-93ff-7dfec9eb0534",
   "metadata": {},
   "outputs": [
    {
     "name": "stdout",
     "output_type": "stream",
     "text": [
      "Done loading\n"
     ]
    }
   ],
   "source": [
    "mc_en_t3_2012 = np.load(f'./mc_en_t3_2012.npy')\n",
    "mc_en_t4_2012 = np.load(f'./mc_en_t4_2012.npy')\n",
    "mc_en_t3_2015 = np.load(f'./mc_en_t3_2015.npy')\n",
    "mc_en_t4_2015 = np.load(f'./mc_en_t4_2015.npy')\n",
    "mc_en_t3_2018 = np.load(f'./mc_en_t3_2018.npy')\n",
    "mc_en_t4_2018 = np.load(f'./mc_en_t4_2018.npy')\n",
    "mc_w_t3_2012 = np.load(f'./mc_w_t3_2012.npy')\n",
    "mc_w_t4_2012 = np.load(f'./mc_w_t4_2012.npy')\n",
    "mc_w_t3_2015 = np.load(f'./mc_w_t3_2015.npy')\n",
    "mc_w_t4_2015 = np.load(f'./mc_w_t4_2015.npy')\n",
    "mc_w_t3_2018 = np.load(f'./mc_w_t3_2018.npy')\n",
    "mc_w_t4_2018 = np.load(f'./mc_w_t4_2018.npy')\n",
    "\n",
    "mc_en_t3_list = [mc_en_t3_2012, mc_en_t3_2015, mc_en_t3_2018]\n",
    "mc_en_t4_list = [mc_en_t4_2012, mc_en_t4_2015, mc_en_t4_2018]\n",
    "mc_w_t3_list = [mc_w_t3_2012, mc_w_t3_2015, mc_w_t3_2018]\n",
    "mc_w_t4_list = [mc_w_t4_2012, mc_w_t4_2015, mc_w_t4_2018]\n",
    "\n",
    "print(\"Done loading\")"
   ]
  },
  {
   "cell_type": "code",
   "execution_count": 7,
   "id": "6dd5c1a7-8d2f-4192-9935-f216a826df35",
   "metadata": {},
   "outputs": [
    {
     "data": {
      "image/png": "[encoded data removed]",
      "text/plain": [
       "<Figure size 1152x360 with 1 Axes>"
      ]
     },
     "metadata": {
      "needs_background": "light"
     },
     "output_type": "display_data"
    }
   ],
   "source": [
    "histograms = plt.figure(figsize=(16, 5), constrained_layout=True)\n",
    "hist_array = histograms.subplots(1, 1, squeeze=False)\n",
    "\n",
    "hist_array[0,0].set_title('Tier 4, 2015')\n",
    "hist_array[0,0].semilogx()\n",
    "hist_array[0,0].set_ylabel('Fraction of Events')\n",
    "hist_array[0,0].set_xlabel('Energy (E/PeV)')\n",
    "\n",
    "bins = 10**(np.arange(-1,2,.1))\n",
    "scale = 1\n",
    "\n",
    "hist_t3, bin_edges_t3 = np.histogram(mc_en_t4_2015 * scale, bins=50, weights=mc_w_t4_2015 / sum(mc_w_t4_2015))\n",
    "bin_centers_t3 = (bin_edges_t3[:-1] + bin_edges_t3[1:]) / 2\n",
    "hist_array[0,0].hist(mc_en_t4_2015*scale, bin_edges_t3, weights=mc_w_t4_2015/sum(mc_w_t4_2015), histtype=\"step\", linestyle=\"solid\")\n",
    "plt.show()"
   ]
  },
  {
   "cell_type": "code",
   "execution_count": null,
   "id": "26cb5db3-ff51-4b32-b1a8-5d129b4bcf7d",
   "metadata": {},
   "outputs": [],
   "source": [
    "# histograms = plt.figure(figsize=(16, 5), constrained_layout=True)\n",
    "# hist_array = histograms.subplots(1, 2, squeeze=False)\n",
    "\n",
    "# hist_array[0,0].set_title('Tier 3')\n",
    "# hist_array[0,0].semilogx()\n",
    "# hist_array[0,0].set_ylabel('Fraction of Events')\n",
    "# hist_array[0,0].set_xlabel('Energy (E/PeV)')\n",
    "\n",
    "# hist_array[0,1].set_title('Tier 4') \n",
    "# hist_array[0,1].semilogx()\n",
    "# hist_array[0,1].set_ylabel('Fraction of Events')\n",
    "# hist_array[0,1].set_xlabel('Energy (E/PeV)')\n",
    "\n",
    "# for i, year in enumerate(mc_en_t3_list):\n",
    "#     bins = 10**(np.arange(-1,2,.1))\n",
    "#     scale = 10**-6\n",
    "    \n",
    "#     hist_t3, bin_edges_t3 = np.histogram(year * scale, bins=bins, weights=mc_w_t3 / sum(mc_w_t3))\n",
    "#     bin_centers_t3 = (bin_edges_t3[:-1] + bin_edges_t3[1:]) / 2\n",
    "    \n",
    "#     weighted_uncertainty_t3 = np.sqrt(np.histogram(mc_en_t3 * scale, bins=bins, weights=(mc_w_t3 / sum(mc_w_t3))**2)[0])\n",
    "    \n",
    "#     hist_array[0,0].hist(mc_en_t3*scale, bins, weights=mc_w_t3/sum(mc_w_t3), histtype=\"step\", linestyle=\"solid\", color=COLORS[i], label=LABELS[i])\n",
    "#     hist_array[0, 0].errorbar(bin_centers_t3, hist_t3, yerr=weighted_uncertainty_t3, fmt='o', color=COLORS[i])      \n",
    "#     hist_array[0,0].legend(loc='upper right')\n",
    "    \n",
    "#     hist_t4, bin_edges_t4 = np.histogram(mc_en_t4 * scale, bins=bins, weights=mc_w_t4 / sum(mc_w_t4))    \n",
    "#     bin_centers_t4 = (bin_edges_t4[:-1] + bin_edges_t4[1:]) / 2\n",
    "    \n",
    "#     weighted_uncertainty_t4 = np.sqrt(np.histogram(mc_en_t4*scale, bins=bins, weights=(mc_w_t4 / sum(mc_w_t4))**2)[0])\n",
    "    \n",
    "#     hist_array[0,1].hist(mc_en_t4*scale, bins, weights=mc_w_t4/sum(mc_w_t4), histtype=\"step\", linestyle=\"solid\", color=COLORS[i], label=LABELS[i])\n",
    "#     hist_array[0, 1].errorbar(bin_centers_t4, hist_t4, yerr=weighted_uncertainty_t4, fmt='o', color=COLORS[i])      \n",
    "#     hist_array[0,1].legend(loc='upper left')"
   ]
  },
  {
   "cell_type": "code",
   "execution_count": 8,
   "id": "873c560a-67f7-4d22-8c15-dc5097f3c8b9",
   "metadata": {},
   "outputs": [
    {
     "name": "stdout",
     "output_type": "stream",
     "text": [
      "19.819274\n",
      "Tier 3 Medians:  [2361093.812142337, 2769397.25, 2193393.75]\n",
      "Tier 3 84th percentile:  [4754350.0, 5616303.5, 4678732.5]\n",
      "Tier 4 Medians:  [6887783.5, 8683085.521894334, 8016953.5]\n",
      "Tier 4 84th percentile:  [15995058.0, 19819274.0, 16868696.0]\n"
     ]
    }
   ],
   "source": [
    "mc_en_all = [mc_en_t3_2012, mc_en_t4_2012, mc_en_t3_2015, mc_en_t4_2015, mc_en_t3_2018, mc_en_t4_2018]\n",
    "mc_w_all = [mc_w_t3_2012, mc_w_t4_2012, mc_w_t3_2015, mc_w_t4_2015, mc_w_t3_2018, mc_w_t4_2018]\n",
    "median_list_t3 = []\n",
    "percentile_16_t3 = []\n",
    "percentile_84_t3 = []\n",
    "median_list_t4 = []\n",
    "percentile_16_t4 = []\n",
    "percentile_84_t4 = []\n",
    "quantiles = [.16, .5, .84]\n",
    "\n",
    "print(weighted_quantile(mc_en_t4_2015, .84, sample_weight=mc_w_t4_2015)*(10**-6))\n",
    "\n",
    "for arra in [[mc_en_t3_2012, mc_w_t3_2012], [mc_en_t3_2015, mc_w_t3_2015], [mc_en_t3_2018, mc_w_t3_2018]]:\n",
    "    median, percentile_16, percentile_84 = getMedian(arra)\n",
    "    median_list_t3.append(median)\n",
    "    percentile_16_t3.append(percentile_16)\n",
    "    percentile_84_t3.append(percentile_84)\n",
    "\n",
    "for arra in [[mc_en_t4_2012, mc_w_t4_2012], [mc_en_t4_2015, mc_w_t4_2015], [mc_en_t4_2018, mc_w_t4_2018]]:\n",
    "    median, percentile_16, percentile_84 = getMedian(arra)\n",
    "    median_list_t4.append(median)\n",
    "    percentile_16_t4.append(percentile_16)\n",
    "    percentile_84_t4.append(percentile_84)\n",
    "\n",
    "print(\"Tier 3 Medians: \", median_list_t3)\n",
    "print(\"Tier 3 84th percentile: \", percentile_84_t3)\n",
    "print(\"Tier 4 Medians: \", median_list_t4)\n",
    "print(\"Tier 4 84th percentile: \", percentile_84_t4)"
   ]
  },
  {
   "cell_type": "code",
   "execution_count": 11,
   "id": "e4a6d5e3-19f5-4aec-826a-49d8ce297388",
   "metadata": {},
   "outputs": [
    {
     "name": "stdout",
     "output_type": "stream",
     "text": [
      "   year  tier  median_energy  percentile_16  percentile_84\n",
      "0  2012     3   2.361094e+06    1287734.875      4754350.0\n",
      "1  2012     4   6.887784e+06    3918061.500     15995058.0\n",
      "2  2015     3   2.769397e+06    1500362.375      5616303.5\n",
      "3  2015     4   8.683086e+06    4905365.000     19819274.0\n",
      "4  2018     3   2.193394e+06    1111009.625      4678732.5\n",
      "5  2018     4   8.016954e+06    4529697.000     16868696.0\n"
     ]
    }
   ],
   "source": [
    "data = {\n",
    "    'year': [2012, 2012, 2015, 2015, 2018, 2018],\n",
    "    'tier': [3, 4, 3, 4, 3, 4],\n",
    "    'median_energy': [median_list_t3[0], median_list_t4[0], median_list_t3[1], median_list_t4[1], median_list_t3[2], median_list_t4[2]],\n",
    "    'percentile_16': [percentile_16_t3[0], percentile_16_t4[0], percentile_16_t3[1], percentile_16_t4[1], percentile_16_t3[2], percentile_16_t4[2]],\n",
    "    'percentile_84': [percentile_84_t3[0], percentile_84_t4[0], percentile_84_t3[1], percentile_84_t4[1], percentile_84_t3[2], percentile_84_t4[2]]\n",
    "}\n",
    "\n",
    "df = pd.DataFrame(data)\n",
    "\n",
    "print(df)\n",
    "\n",
    "df['lower_error'] = df['median_energy'] - df['percentile_16']\n",
    "df['upper_error'] = df['percentile_84'] - df['median_energy']"
   ]
  },
  {
   "cell_type": "code",
   "execution_count": 10,
   "id": "15473c8d-0531-4a40-ba94-dfdb5c658b35",
   "metadata": {},
   "outputs": [
    {
     "data": {
      "image/png": "[encoded data removed]",
      "text/plain": [
       "<Figure size 432x288 with 1 Axes>"
      ]
     },
     "metadata": {
      "needs_background": "light"
     },
     "output_type": "display_data"
    }
   ],
   "source": [
    "fig, ax = plt.subplots()\n",
    "\n",
    "# Plot median energy with asymmetric error bars\n",
    "for tier in df['tier'].unique():\n",
    "    tier_data = df[df['tier'] == tier]\n",
    "    ax.errorbar(tier_data['year'], tier_data['median_energy'], \n",
    "                yerr=[tier_data['lower_error'], tier_data['upper_error']], \n",
    "                fmt='o-', capsize=5, capthick=2, label=f'Tier {tier}')\n",
    "\n",
    "# Add labels and title\n",
    "ax.set_xlabel('Year')\n",
    "ax.set_ylabel('Median Energy (GeV)')\n",
    "ax.set_yscale(\"log\")\n",
    "ax.set_title('Median Energy for Tier 3 and 4 Over Time')\n",
    "ax.legend()\n",
    "\n",
    "# Show the plot\n",
    "plt.show()"
   ]
  }
 ],
 "metadata": {
  "kernelspec": {
   "display_name": "py3-v4.1.1: combo/V01-01-06",
   "language": "shell",
   "name": "py3-v4.1.1_v01-01-06"
  },
  "language_info": {
   "codemirror_mode": {
    "name": "ipython",
    "version": 3
   },
   "file_extension": ".py",
   "mimetype": "text/x-python",
   "name": "python",
   "nbconvert_exporter": "python",
   "pygments_lexer": "ipython3",
   "version": "3.7.5"
  }
 },
 "nbformat": 4,
 "nbformat_minor": 5
}
