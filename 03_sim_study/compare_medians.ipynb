{
 "cells": [
  {
   "cell_type": "code",
   "execution_count": 1,
   "id": "68c2d0b9-c12d-48ad-b5a2-30550bf741e6",
   "metadata": {},
   "outputs": [],
   "source": [
    "import numpy as np\n",
    "import matplotlib.pyplot as plt\n",
    "import math\n",
    "import h5py, glob\n",
    "import pandas as pd\n",
    "\n",
    "from scipy.stats import ks_2samp\n",
    "from ang_res_funcs import *\n"
   ]
  },
  {
   "cell_type": "code",
   "execution_count": 2,
   "id": "cef5a859-cab7-43b8-940c-bafefcc3838f",
   "metadata": {},
   "outputs": [],
   "source": [
    "PARENT_DIRECTORY = '/data/ana/CosmicRay/Anisotropy/IceTop/twelve_year/03_sim_study'\n",
    "years = [2012, 2015, 2018]\n",
    "DIRECTS = [f'{PARENT_DIRECTORY}/IT81-{year}' for year in years]\n",
    "for year, DIRECT in zip(years, DIRECTS):\n",
    "    mc_en_p_t3 = np.load(DIRECT +'/Proton-T3-MC-Energy.npy')\n",
    "    mc_en_he_t3 = np.load(DIRECT +'/Helium-T3-MC-Energy.npy')\n",
    "    mc_en_o_t3 = np.load(DIRECT +'/Oxygen-T3-MC-Energy.npy')\n",
    "    mc_en_fe_t3 = np.load(DIRECT +'/Iron-T3-MC-Energy.npy')\n",
    "        \n",
    "    mc_en_p_t4 = np.load(DIRECT +'/Proton-T4-MC-Energy.npy')\n",
    "    mc_en_he_t4 = np.load(DIRECT +'/Helium-T4-MC-Energy.npy')\n",
    "    mc_en_o_t4 = np.load(DIRECT +'/Oxygen-T4-MC-Energy.npy')\n",
    "    mc_en_fe_t4 = np.load(DIRECT +'/Iron-T4-MC-Energy.npy')\n",
    "        \n",
    "    mc_w_p_t3 = np.load(DIRECT +'/Proton-T3-MC-Weights.npy')\n",
    "    mc_w_he_t3 = np.load(DIRECT +'/Helium-T3-MC-Weights.npy')\n",
    "    mc_w_o_t3 = np.load(DIRECT +'/Oxygen-T3-MC-Weights.npy')\n",
    "    mc_w_fe_t3 = np.load(DIRECT +'/Iron-T3-MC-Weights.npy')\n",
    "        \n",
    "    mc_w_p_t4 = np.load(DIRECT +'/Proton-T4-MC-Weights.npy')\n",
    "    mc_w_he_t4 = np.load(DIRECT +'/Helium-T4-MC-Weights.npy')\n",
    "    mc_w_o_t4 = np.load(DIRECT +'/Oxygen-T4-MC-Weights.npy')\n",
    "    mc_w_fe_t4 = np.load(DIRECT +'/Iron-T4-MC-Weights.npy')\n",
    "        \n",
    "    mc_en_t3 = np.concatenate((mc_en_p_t3, mc_en_he_t3, mc_en_o_t3, mc_en_fe_t3), axis=None)\n",
    "    mc_en_t4 = np.concatenate((mc_en_p_t4, mc_en_he_t4, mc_en_o_t4, mc_en_fe_t4), axis=None)\n",
    "\n",
    "    mc_w_t3 = np.concatenate((mc_w_p_t3, mc_w_he_t3, mc_w_o_t3, mc_w_fe_t3), axis=None)\n",
    "    mc_w_t4 = np.concatenate((mc_w_p_t4, mc_w_he_t4, mc_w_o_t4, mc_w_fe_t4), axis=None)\n",
    "\n",
    "    np.save(f'/data/user/ahayes/mc_en_t3_{year}.npy', mc_en_t3)\n",
    "    np.save(f'/data/user/ahayes/mc_en_t4_{year}.npy', mc_en_t4)\n",
    "    np.save(f'/data/user/ahayes/mc_w_t3_{year}.npy', mc_w_t3)\n",
    "    np.save(f'/data/user/ahayes/mc_w_t4_{year}.npy', mc_w_t4)"
   ]
  },
  {
   "cell_type": "code",
   "execution_count": 3,
   "id": "2ae10ec1-b2ca-4926-952c-d9bc932a228c",
   "metadata": {},
   "outputs": [
    {
     "name": "stdout",
     "output_type": "stream",
     "text": [
      "done\n",
      "done\n",
      "done\n",
      "done\n",
      "done\n",
      "done\n",
      "[9043372.0, 35546716.0, 9593788.0, 38712592.0, 6068972.5, 16777194.0]\n"
     ]
    }
   ],
   "source": [
    "mc_en_t3_2012 = np.load(f'/data/user/ahayes/mc_en_t3_2012.npy')\n",
    "print(\"done\")\n",
    "mc_en_t4_2012 = np.load(f'/data/user/ahayes/mc_en_t4_2012.npy')\n",
    "print(\"done\")\n",
    "mc_en_t3_2015 = np.load(f'/data/user/ahayes/mc_en_t3_2015.npy')\n",
    "print(\"done\")\n",
    "mc_en_t4_2015 = np.load(f'/data/user/ahayes/mc_en_t4_2015.npy')\n",
    "print(\"done\")\n",
    "mc_en_t3_2018 = np.load(f'/data/user/ahayes/mc_en_t3_2018.npy')\n",
    "print(\"done\")\n",
    "mc_en_t4_2018 = np.load(f'/data/user/ahayes/mc_en_t4_2018.npy')\n",
    "print(\"done\")\n",
    "\n",
    "mc_en_all = [mc_en_t3_2012, mc_en_t4_2012, mc_en_t3_2015, mc_en_t4_2015, mc_en_t3_2018, mc_en_t4_2018]\n",
    "median_en_list = []\n",
    "std_list = []\n",
    "for mc_en in mc_en_all:\n",
    "    median = np.percentile(mc_en, 50)\n",
    "    std = np.percentile(mc_en, 84) - np.percentile(mc_en, 16)\n",
    "    median_en_list.append(median)\n",
    "    std_list.append(std)\n",
    "print(median_en_list)"
   ]
  },
  {
   "cell_type": "code",
   "execution_count": 4,
   "id": "900a07ff-a4b6-4bdf-9bbb-14c6e42b6d50",
   "metadata": {},
   "outputs": [],
   "source": [
    "data = {\n",
    "    'year': [2012, 2012, 2015, 2015, 2018, 2018],\n",
    "    'tier': [3, 4, 3, 4, 3, 4],\n",
    "    'energy': median_en_list}\n",
    "\n",
    "df = pd.DataFrame(data)"
   ]
  },
  {
   "cell_type": "code",
   "execution_count": 5,
   "id": "c845c7be-a779-4e4c-a5e9-334df9c69503",
   "metadata": {},
   "outputs": [
    {
     "name": "stdout",
     "output_type": "stream",
     "text": [
      "   year  tier  median_energy  std_energy\n",
      "0  2012     3      9043372.0         NaN\n",
      "1  2012     4     35546716.0         NaN\n",
      "2  2015     3      9593788.0         NaN\n",
      "3  2015     4     38712592.0         NaN\n",
      "4  2018     3      6068972.5         NaN\n",
      "5  2018     4     16777194.0         NaN\n"
     ]
    }
   ],
   "source": [
    "# Group by year and tier, then calculate median and std\n",
    "stats = df.groupby(['year', 'tier']).agg({'energy': ['median', 'std']}).reset_index()\n",
    "\n",
    "# Flatten MultiIndex columns\n",
    "stats.columns = ['year', 'tier', 'median_energy', 'std_energy']\n",
    "\n",
    "print(stats)\n"
   ]
  },
  {
   "cell_type": "code",
   "execution_count": 6,
   "id": "0e49952a-cb74-42b3-a7c9-3ebc689900be",
   "metadata": {},
   "outputs": [
    {
     "data": {
      "image/png": "[encoded data removed]",
      "text/plain": [
       "<Figure size 432x288 with 1 Axes>"
      ]
     },
     "metadata": {
      "needs_background": "light"
     },
     "output_type": "display_data"
    }
   ],
   "source": [
    "# Set up the plot\n",
    "fig, ax1 = plt.subplots()\n",
    "\n",
    "# Plot median energy\n",
    "for tier in stats['tier'].unique():\n",
    "    tier_data = stats[stats['tier'] == tier]\n",
    "    ax1.plot(tier_data['year'], tier_data['median_energy'], marker='o', label=f'Tier {tier} Median Energy')\n",
    "\n",
    "ax1.set_xlabel('Year')\n",
    "ax1.set_ylabel('Median Energy')\n",
    "ax1.legend(loc='upper left')\n",
    "\n",
    "# Create a second y-axis for the standard deviation\n",
    "# ax2 = ax1.twinx()\n",
    "\n",
    "# Plot standard deviation\n",
    "# for tier in stats['tier'].unique():\n",
    "#     tier_data = stats[stats['tier'] == tier]\n",
    "#     ax2.plot(tier_data['year'], tier_data['std_energy'], linestyle='--', marker='x', label=f'Tier {tier} Std Deviation')\n",
    "\n",
    "# ax2.set_ylabel('Standard Deviation')\n",
    "# ax2.legend(loc='upper right')\n",
    "\n",
    "plt.title('Median Energy and Standard Deviation for Each Tier Over Time')\n",
    "plt.show()\n"
   ]
  }
 ],
 "metadata": {
  "kernelspec": {
   "display_name": "py3-v4.1.1: combo/V01-01-06",
   "language": "shell",
   "name": "py3-v4.1.1_v01-01-06"
  },
  "language_info": {
   "codemirror_mode": {
    "name": "ipython",
    "version": 3
   },
   "file_extension": ".py",
   "mimetype": "text/x-python",
   "name": "python",
   "nbconvert_exporter": "python",
   "pygments_lexer": "ipython3",
   "version": "3.7.5"
  }
 },
 "nbformat": 4,
 "nbformat_minor": 5
}
