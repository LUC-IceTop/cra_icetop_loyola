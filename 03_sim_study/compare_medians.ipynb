{
 "cells": [
  {
   "cell_type": "code",
   "execution_count": 1,
   "id": "68c2d0b9-c12d-48ad-b5a2-30550bf741e6",
   "metadata": {},
   "outputs": [],
   "source": [
    "import numpy as np\n",
    "import matplotlib.pyplot as plt\n",
    "import math\n",
    "import h5py, glob\n",
    "import pandas as pd\n",
    "\n",
    "from scipy.stats import ks_2samp\n",
    "from ang_res_funcs import *"
   ]
  },
  {
   "cell_type": "code",
   "execution_count": null,
   "id": "900a07ff-a4b6-4bdf-9bbb-14c6e42b6d50",
   "metadata": {},
   "outputs": [],
   "source": [
    "data = {\n",
    "    'year': [2012_original, 2012_original, 2012, 2012, 2015, 2015, 2018, 2018],\n",
    "    'tier': [3, 4, 3, 4, 3, 4, 3, 4],\n",
    "    'energy': [100, 200, 300, 150, 250, 350, 200, 300, 400]\n",
    "}\n",
    "\n",
    "df = pd.DataFrame(data)"
   ]
  }
 ],
 "metadata": {
  "kernelspec": {
   "display_name": "py3-v4.1.1: combo/V01-01-06",
   "language": "shell",
   "name": "py3-v4.1.1_v01-01-06"
  },
  "language_info": {
   "codemirror_mode": {
    "name": "ipython",
    "version": 3
   },
   "file_extension": ".py",
   "mimetype": "text/x-python",
   "name": "python",
   "nbconvert_exporter": "python",
   "pygments_lexer": "ipython3",
   "version": "3.7.5"
  }
 },
 "nbformat": 4,
 "nbformat_minor": 5
}
