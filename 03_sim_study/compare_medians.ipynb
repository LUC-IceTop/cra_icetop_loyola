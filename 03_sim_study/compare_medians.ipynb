{
 "cells": [
  {
   "cell_type": "code",
   "execution_count": 1,
   "id": "68c2d0b9-c12d-48ad-b5a2-30550bf741e6",
   "metadata": {},
   "outputs": [],
   "source": [
    "import numpy as np\n",
    "import matplotlib.pyplot as plt\n",
    "import math\n",
    "import h5py, glob\n",
    "import pandas as pd\n",
    "\n",
    "from scipy.stats import ks_2samp\n",
    "from ang_res_funcs import *\n",
    "def getMedian(data):\n",
    "    dat = data[0]*(10**-6)\n",
    "    wei = data[1]\n",
    "    median = weighted_quantile(dat, .5, sample_weight=wei/sum(wei))\n",
    "    percentile_16 = weighted_quantile(dat, .5-.34, sample_weight=wei/sum(wei))\n",
    "    percentile_84 = weighted_quantile(dat, .5+.34, sample_weight=wei/sum(wei))\n",
    "    return [median, percentile_16, percentile_84]"
   ]
  },
  {
   "cell_type": "code",
   "execution_count": 2,
   "id": "cef5a859-cab7-43b8-940c-bafefcc3838f",
   "metadata": {},
   "outputs": [],
   "source": [
    "PARENT_DIRECTORY = '/data/ana/CosmicRay/Anisotropy/IceTop/twelve_year/03_sim_study'\n",
    "years = [2012, 2015, 2018]\n",
    "DIRECTS = [f'{PARENT_DIRECTORY}/IT81-{year}' for year in years]\n",
    "for year, DIRECT in zip(years, DIRECTS):\n",
    "    mc_en_p_t3 = np.load(DIRECT +'/Proton-T3-MC-Energy.npy')\n",
    "    mc_en_he_t3 = np.load(DIRECT +'/Helium-T3-MC-Energy.npy')\n",
    "    mc_en_o_t3 = np.load(DIRECT +'/Oxygen-T3-MC-Energy.npy')\n",
    "    mc_en_fe_t3 = np.load(DIRECT +'/Iron-T3-MC-Energy.npy')\n",
    "        \n",
    "    mc_en_p_t4 = np.load(DIRECT +'/Proton-T4-MC-Energy.npy')\n",
    "    mc_en_he_t4 = np.load(DIRECT +'/Helium-T4-MC-Energy.npy')\n",
    "    mc_en_o_t4 = np.load(DIRECT +'/Oxygen-T4-MC-Energy.npy')\n",
    "    mc_en_fe_t4 = np.load(DIRECT +'/Iron-T4-MC-Energy.npy')\n",
    "        \n",
    "    mc_w_p_t3 = np.load(DIRECT +'/Proton-T3-MC-Weights.npy')\n",
    "    mc_w_he_t3 = np.load(DIRECT +'/Helium-T3-MC-Weights.npy')\n",
    "    mc_w_o_t3 = np.load(DIRECT +'/Oxygen-T3-MC-Weights.npy')\n",
    "    mc_w_fe_t3 = np.load(DIRECT +'/Iron-T3-MC-Weights.npy')\n",
    "        \n",
    "    mc_w_p_t4 = np.load(DIRECT +'/Proton-T4-MC-Weights.npy')\n",
    "    mc_w_he_t4 = np.load(DIRECT +'/Helium-T4-MC-Weights.npy')\n",
    "    mc_w_o_t4 = np.load(DIRECT +'/Oxygen-T4-MC-Weights.npy')\n",
    "    mc_w_fe_t4 = np.load(DIRECT +'/Iron-T4-MC-Weights.npy')\n",
    "        \n",
    "    mc_en_t3 = np.concatenate((mc_en_p_t3, mc_en_he_t3, mc_en_o_t3, mc_en_fe_t3), axis=None)\n",
    "    mc_en_t4 = np.concatenate((mc_en_p_t4, mc_en_he_t4, mc_en_o_t4, mc_en_fe_t4), axis=None)\n",
    "\n",
    "    mc_w_t3 = np.concatenate((mc_w_p_t3, mc_w_he_t3, mc_w_o_t3, mc_w_fe_t3), axis=None)\n",
    "    mc_w_t4 = np.concatenate((mc_w_p_t4, mc_w_he_t4, mc_w_o_t4, mc_w_fe_t4), axis=None)\n",
    "\n",
    "    np.save(f'/data/user/ahayes/mc_en_t3_{year}.npy', mc_en_t3)\n",
    "    np.save(f'/data/user/ahayes/mc_en_t4_{year}.npy', mc_en_t4)\n",
    "    np.save(f'/data/user/ahayes/mc_w_t3_{year}.npy', mc_w_t3)\n",
    "    np.save(f'/data/user/ahayes/mc_w_t4_{year}.npy', mc_w_t4)"
   ]
  },
  {
   "cell_type": "code",
   "execution_count": 3,
   "id": "2ae10ec1-b2ca-4926-952c-d9bc932a228c",
   "metadata": {},
   "outputs": [
    {
     "name": "stdout",
     "output_type": "stream",
     "text": [
      "Done loading\n",
      "[2.3610938121423373, 2.76939725, 2.19339375]\n",
      "[1.287734875, 1.500362375, 1.111009625]\n",
      "[6.887783499999999, 8.683085521894332, 8.0169535]\n",
      "[3.9180615, 4.905365, 4.529697]\n"
     ]
    }
   ],
   "source": [
    "mc_en_t3_2012 = np.load(f'/data/user/ahayes/mc_en_t3_2012.npy')\n",
    "mc_en_t4_2012 = np.load(f'/data/user/ahayes/mc_en_t4_2012.npy')\n",
    "mc_en_t3_2015 = np.load(f'/data/user/ahayes/mc_en_t3_2015.npy')\n",
    "mc_en_t4_2015 = np.load(f'/data/user/ahayes/mc_en_t4_2015.npy')\n",
    "mc_en_t3_2018 = np.load(f'/data/user/ahayes/mc_en_t3_2018.npy')\n",
    "mc_en_t4_2018 = np.load(f'/data/user/ahayes/mc_en_t4_2018.npy')\n",
    "mc_w_t3_2012 = np.load(f'/data/user/ahayes/mc_w_t3_2012.npy')\n",
    "mc_w_t4_2012 = np.load(f'/data/user/ahayes/mc_w_t4_2012.npy')\n",
    "mc_w_t3_2015 = np.load(f'/data/user/ahayes/mc_w_t3_2015.npy')\n",
    "mc_w_t4_2015 = np.load(f'/data/user/ahayes/mc_w_t4_2015.npy')\n",
    "mc_w_t3_2018 = np.load(f'/data/user/ahayes/mc_w_t3_2018.npy')\n",
    "mc_w_t4_2018 = np.load(f'/data/user/ahayes/mc_w_t4_2018.npy')\n",
    "print(\"Done loading\")\n",
    "\n",
    "mc_en_all = [mc_en_t3_2012, mc_en_t4_2012, mc_en_t3_2015, mc_en_t4_2015, mc_en_t3_2018, mc_en_t4_2018]\n",
    "mc_w_all = [mc_w_t3_2012, mc_w_t4_2012, mc_w_t3_2015, mc_w_t4_2015, mc_w_t3_2018, mc_w_t4_2018]\n",
    "median_list_t3 = []\n",
    "percentile_16_t3 = []\n",
    "percentile_84_t3 = []\n",
    "median_list_t4 = []\n",
    "percentile_16_t4 = []\n",
    "percentile_84_t4 = []\n",
    "\n",
    "for arra in [[mc_en_t3_2012, mc_w_t3_2012], [mc_en_t3_2015, mc_w_t3_2015], [mc_en_t3_2018, mc_w_t3_2018]]:\n",
    "    median, percentile_16, percentile_84 = getMedian(arra)\n",
    "    median_list_t3.append(median)\n",
    "    percentile_16_t3.append(percentile_16)\n",
    "    percentile_84_t3.append(percentile_84)\n",
    "\n",
    "for arra in [[mc_en_t4_2012, mc_w_t4_2012], [mc_en_t4_2015, mc_w_t4_2015], [mc_en_t4_2018, mc_w_t4_2018]]:\n",
    "    median, percentile_16, percentile_84 = getMedian(arra)\n",
    "    median_list_t4.append(median)\n",
    "    percentile_16_t4.append(percentile_16)\n",
    "    percentile_84_t4.append(percentile_84)\n",
    "\n",
    "print(median_list_t3)\n",
    "print(percentile_16_t3)\n",
    "print(median_list_t4)\n",
    "print(percentile_16_t4)"
   ]
  },
  {
   "cell_type": "code",
   "execution_count": 4,
   "id": "e0ced1d6-79e6-44c0-850c-95028d8161f6",
   "metadata": {},
   "outputs": [],
   "source": [
    "data = {\n",
    "    'year': [2012, 2012, 2015, 2015, 2018, 2018],\n",
    "    'tier': [3, 4, 3, 4, 3, 4],\n",
    "    'median_energy': [median_list_t3[0], median_list_t4[0], median_list_t3[1], median_list_t4[1], median_list_t3[2], median_list_t4[2]],\n",
    "    'percentile_16': [percentile_16_t3[0], percentile_16_t4[0], percentile_16_t3[1], percentile_16_t4[1], percentile_16_t3[2], percentile_16_t4[2]],\n",
    "    'percentile_84': [percentile_84_t3[0], percentile_84_t4[0], percentile_84_t3[1], percentile_84_t4[1], percentile_84_t3[2], percentile_84_t4[2]]\n",
    "}\n",
    "\n",
    "df = pd.DataFrame(data)\n",
    "\n",
    "df['lower_error'] = df['median_energy'] - df['percentile_16']\n",
    "df['upper_error'] = df['percentile_84'] - df['median_energy']"
   ]
  },
  {
   "cell_type": "code",
   "execution_count": 6,
   "id": "2bdf78f7-9800-4922-8698-88b6a4fe6207",
   "metadata": {},
   "outputs": [
    {
     "data": {
      "image/png": "[encoded data removed]",
      "text/plain": [
       "<Figure size 432x288 with 1 Axes>"
      ]
     },
     "metadata": {
      "needs_background": "light"
     },
     "output_type": "display_data"
    }
   ],
   "source": [
    "fig, ax = plt.subplots()\n",
    "\n",
    "# Plot median energy with asymmetric error bars\n",
    "for tier in df['tier'].unique():\n",
    "    tier_data = df[df['tier'] == tier]\n",
    "    ax.errorbar(tier_data['year'], tier_data['median_energy'], \n",
    "                yerr=[tier_data['lower_error'], tier_data['upper_error']], \n",
    "                fmt='o-', label=f'Tier {tier}')\n",
    "\n",
    "# Add labels and title\n",
    "ax.set_xlabel('Year')\n",
    "ax.set_ylabel('Median Energy')\n",
    "ax.set_title('Median Energy for Tier 3 and 4 Over Time')\n",
    "ax.legend()\n",
    "\n",
    "# Show the plot\n",
    "plt.show()"
   ]
  }
 ],
 "metadata": {
  "kernelspec": {
   "display_name": "py3-v4.1.1: combo/V01-01-06",
   "language": "shell",
   "name": "py3-v4.1.1_v01-01-06"
  },
  "language_info": {
   "codemirror_mode": {
    "name": "ipython",
    "version": 3
   },
   "file_extension": ".py",
   "mimetype": "text/x-python",
   "name": "python",
   "nbconvert_exporter": "python",
   "pygments_lexer": "ipython3",
   "version": "3.7.5"
  }
 },
 "nbformat": 4,
 "nbformat_minor": 5
}
